{
 "cells": [
  {
   "cell_type": "code",
   "execution_count": 1,
   "id": "a25cdb10-d7e3-422c-93ec-c88bb96fbf3b",
   "metadata": {
    "editable": true,
    "slideshow": {
     "slide_type": ""
    },
    "tags": [
     "remove-cell"
    ]
   },
   "outputs": [],
   "source": [
    "%config InlineBackend.figure_format = 'svg'"
   ]
  },
  {
   "cell_type": "markdown",
   "id": "b63436b3-f8f1-4cb6-b9de-04fe287bc12b",
   "metadata": {},
   "source": [
    "(appendix_01)=\n",
    "\n",
    "# Appendix 1: Remote Requests\n",
    "\n",
    "There are a number of freely-available online chemical databases that can be used to build datasets for research and other projects such as the Chemical Abstract Services (CAS) and PubChem among others. While some databases only support access through a web browser such as Spectral Database for Organic\n",
    "Compounds (SDBS), many databases support programmatically accessing the data. This allows users to write code with languages such as Python to automate the downloading or searching of data from databases. This requires the database to have what is know as an Application Programming Interface (API) that allows Python to communicate with the database software. The API’s often have idiosyncratic formatting rules that must be carefully followed to ensure no errors arise. It is also important to follow the database usages rules such as how much data may be downloaded and what it may be used for. In this activity, you will learn to access both the CAS and PubChem databases and build a small dataset of organic chemicals with the chemical features to describe them.\n",
    "\n",
    "To access the databases, we will use the Python requests library which allows the user to use Python to access data from remote web servers. This package is installed by default with Anaconda. It is also recommended to keep this library up-to-date just as you would with a web browser because it makes remote requests.\n",
    "\n",
    "PubChem Requests PubChem requests also use a URL with the following five components:\n",
    "- prolog URL - `https://pubchem.ncbi.nlm.nih.gov/rest/pug/`\n",
    "- input - `compound/smiles/`\n",
    "- identifier - `OC(C=1C=CN=C2C=CC(OC)=CC21)C3N4CCC(C3)C(C=C)C4/`\n",
    "- operation - `property/Volume3D/`\n",
    "- output - `txt`\n",
    "- \n",
    "The prolong is the base URL, the input indicates what information will be provided to look up a chemical compound, the identifier if the actual chemical identifier, the operation is what information you want out, and the output if the format of the returned information. The latter will be text in our case, but you can have PubChem return other formats such as PNG or CSV if desired. The four above pieces are concatenated and provided as an overall URL to the requests library like below.\n",
    "\n",
    "~~~python\n",
    "requests.get(url)\n",
    "~~~\n",
    "\n",
    "Once you have the result, use the .text method to get the regular text, and you will need to remove the\n",
    "last two characters."
   ]
  },
  {
   "cell_type": "code",
   "execution_count": 8,
   "id": "f1500f29-4896-4f34-b3ab-ccc70e9ca8ff",
   "metadata": {},
   "outputs": [],
   "source": []
  },
  {
   "cell_type": "markdown",
   "id": "4f201aa5-6ceb-4d3d-a997-556a5b3f3f39",
   "metadata": {},
   "source": [
    "## Access Chemical Abstract Service (CAS) with requests\n",
    "To create a"
   ]
  },
  {
   "cell_type": "code",
   "execution_count": null,
   "id": "b028e6a4-3b17-46d1-bb79-f6339afd7526",
   "metadata": {},
   "outputs": [],
   "source": []
  }
 ],
 "metadata": {
  "kernelspec": {
   "display_name": "scicompchem-env",
   "language": "python",
   "name": "scicompchem-env"
  },
  "language_info": {
   "codemirror_mode": {
    "name": "ipython",
    "version": 3
   },
   "file_extension": ".py",
   "mimetype": "text/x-python",
   "name": "python",
   "nbconvert_exporter": "python",
   "pygments_lexer": "ipython3",
   "version": "3.12.7"
  }
 },
 "nbformat": 4,
 "nbformat_minor": 5
}
